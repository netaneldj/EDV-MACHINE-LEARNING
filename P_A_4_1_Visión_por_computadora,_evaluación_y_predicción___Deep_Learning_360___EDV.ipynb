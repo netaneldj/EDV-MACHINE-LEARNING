{
  "nbformat": 4,
  "nbformat_minor": 0,
  "metadata": {
    "colab": {
      "name": "P.A.4.1 - Visión por computadora, evaluación y predicción  | Deep Learning 360 | EDV",
      "provenance": [],
      "collapsed_sections": []
    },
    "kernelspec": {
      "name": "python3",
      "display_name": "Python 3"
    }
  },
  "cells": [
    {
      "cell_type": "markdown",
      "metadata": {
        "id": "ocJdhiZw7ekt"
      },
      "source": [
        "# Curso Deep Learning 360 \n",
        "\n",
        "<img src=\"https://i.ibb.co/P1BsHJB/Logo-Datos-Vivos.png\" width=\"300px\">\n",
        "\n",
        "Creado por [Pablo Casas](https://twitter.com/pabloc_ds) | [Escuela de Datos Vivos](https://escueladedatosvivos.ai/)\n",
        "\n",
        "\n"
      ]
    },
    {
      "cell_type": "markdown",
      "metadata": {
        "id": "oT-YsYyN9XYv"
      },
      "source": [
        "### Visión por computadora con MNIST\n",
        "\n",
        "Objetivo:\n",
        "\n",
        "- Entender la vectorización de una matriz (flatten)\n",
        "- Evaluación del modelo de Keras\n",
        "- Predicción de casos nuevos\n"
      ]
    },
    {
      "cell_type": "markdown",
      "metadata": {
        "id": "0YCHR5lU7tU5"
      },
      "source": [
        "### 1) Carga de datos"
      ]
    },
    {
      "cell_type": "code",
      "metadata": {
        "id": "PsZmoXfw_0r3",
        "colab": {
          "base_uri": "https://localhost:8080/"
        },
        "outputId": "1af53f69-6fa6-4404-c2bd-052f689648e9"
      },
      "source": [
        "import tensorflow as tf\n",
        "import tensorflow.keras as keras\n",
        "\n",
        "(x_train, y_train), (x_test, y_test) = tf.keras.datasets.mnist.load_data(path='mnist.npz')"
      ],
      "execution_count": 1,
      "outputs": [
        {
          "output_type": "stream",
          "text": [
            "Downloading data from https://storage.googleapis.com/tensorflow/tf-keras-datasets/mnist.npz\n",
            "11493376/11490434 [==============================] - 0s 0us/step\n"
          ],
          "name": "stdout"
        }
      ]
    },
    {
      "cell_type": "code",
      "metadata": {
        "id": "jy8UyfEl_0t0",
        "colab": {
          "base_uri": "https://localhost:8080/",
          "height": 34
        },
        "outputId": "5a221d9d-3041-44f7-9ca2-ea6f12171b47"
      },
      "source": [
        "x_train.shape"
      ],
      "execution_count": null,
      "outputs": [
        {
          "output_type": "execute_result",
          "data": {
            "text/plain": [
              "(60000, 28, 28)"
            ]
          },
          "metadata": {
            "tags": []
          },
          "execution_count": 2
        }
      ]
    },
    {
      "cell_type": "code",
      "metadata": {
        "id": "rcvpB1h5_GWy",
        "colab": {
          "base_uri": "https://localhost:8080/",
          "height": 282
        },
        "outputId": "5db7b913-3d7c-4119-fb5e-1e103a7b5625"
      },
      "source": [
        "import matplotlib.pyplot as plt\n",
        "\n",
        "plt.imshow(x_train[0], cmap='gray', interpolation='none')"
      ],
      "execution_count": null,
      "outputs": [
        {
          "output_type": "execute_result",
          "data": {
            "text/plain": [
              "<matplotlib.image.AxesImage at 0x7fec797154e0>"
            ]
          },
          "metadata": {
            "tags": []
          },
          "execution_count": 3
        },
        {
          "output_type": "display_data",
          "data": {
            "image/png": "[encoded data removed]",
            "text/plain": [
              "<Figure size 432x288 with 1 Axes>"
            ]
          },
          "metadata": {
            "tags": [],
            "needs_background": "light"
          }
        }
      ]
    },
    {
      "cell_type": "code",
      "metadata": {
        "id": "be5PBQ91AErp"
      },
      "source": [
        "x_train[0].shape\n",
        "x_train[0]"
      ],
      "execution_count": null,
      "outputs": []
    },
    {
      "cell_type": "code",
      "metadata": {
        "id": "T5BAzbSyAiSy",
        "colab": {
          "base_uri": "https://localhost:8080/",
          "height": 34
        },
        "outputId": "640bd2b4-e540-48ef-ea09-6191ca8370cf"
      },
      "source": [
        "y_train[0]"
      ],
      "execution_count": null,
      "outputs": [
        {
          "output_type": "execute_result",
          "data": {
            "text/plain": [
              "5"
            ]
          },
          "metadata": {
            "tags": []
          },
          "execution_count": 5
        }
      ]
    },
    {
      "cell_type": "code",
      "metadata": {
        "id": "ejsEDuSI_03q"
      },
      "source": [
        "\n",
        "\n",
        "\n",
        "\n",
        "\n",
        "\n",
        "\n",
        "\n",
        "\n",
        "\n",
        "\n"
      ],
      "execution_count": null,
      "outputs": []
    },
    {
      "cell_type": "markdown",
      "metadata": {
        "id": "ANXAR8Dm_1RT"
      },
      "source": [
        "### 2) Creación del modelo"
      ]
    },
    {
      "cell_type": "code",
      "metadata": {
        "id": "T3IPGQ8a_012"
      },
      "source": [
        "from keras import Sequential\n",
        "from keras.layers import Dense, Flatten\n",
        "\n",
        "model = keras.Sequential([\n",
        "    Flatten(input_shape=(28, 28)), # <-- Importante!\n",
        "    Dense(128, activation='relu'),\n",
        "    Dense(10, activation='softmax')\n",
        "])"
      ],
      "execution_count": null,
      "outputs": []
    },
    {
      "cell_type": "code",
      "metadata": {
        "id": "wKvlkM-nFiqt",
        "colab": {
          "base_uri": "https://localhost:8080/",
          "height": 260
        },
        "outputId": "961b995f-6596-430e-e5a9-9dcdf60de0d1"
      },
      "source": [
        "model.summary()"
      ],
      "execution_count": null,
      "outputs": [
        {
          "output_type": "stream",
          "text": [
            "Model: \"sequential_3\"\n",
            "_________________________________________________________________\n",
            "Layer (type)                 Output Shape              Param #   \n",
            "=================================================================\n",
            "flatten_3 (Flatten)          (None, 784)               0         \n",
            "_________________________________________________________________\n",
            "dense_6 (Dense)              (None, 128)               100480    \n",
            "_________________________________________________________________\n",
            "dense_7 (Dense)              (None, 10)                1290      \n",
            "=================================================================\n",
            "Total params: 101,770\n",
            "Trainable params: 101,770\n",
            "Non-trainable params: 0\n",
            "_________________________________________________________________\n"
          ],
          "name": "stdout"
        }
      ]
    },
    {
      "cell_type": "code",
      "metadata": {
        "id": "vzCZfZLaxnHP",
        "colab": {
          "base_uri": "https://localhost:8080/",
          "height": 34
        },
        "outputId": "7b6149a3-4afe-41c8-8a45-1481bedb930e"
      },
      "source": [
        "(784*128 + 128) + (128*10 + 10)"
      ],
      "execution_count": null,
      "outputs": [
        {
          "output_type": "execute_result",
          "data": {
            "text/plain": [
              "101770"
            ]
          },
          "metadata": {
            "tags": []
          },
          "execution_count": 41
        }
      ]
    },
    {
      "cell_type": "code",
      "metadata": {
        "id": "X-fQ32L9Ac2P",
        "colab": {
          "base_uri": "https://localhost:8080/",
          "height": 364
        },
        "outputId": "4bd050f2-c98e-4f28-82b5-6689d84ad78d"
      },
      "source": [
        "model.compile(optimizer=\"adam\",\n",
        "              loss='sparse_categorical_crossentropy', # usada para multi-class\n",
        "              metrics=['accuracy'])\n",
        "\n",
        "history = model.fit(x_train, y_train, epochs=10, batch_size=64, validation_split=0.2)"
      ],
      "execution_count": null,
      "outputs": [
        {
          "output_type": "stream",
          "text": [
            "Epoch 1/10\n",
            "750/750 [==============================] - 3s 4ms/step - loss: 3.6808 - accuracy: 0.8670 - val_loss: 0.6800 - val_accuracy: 0.9008\n",
            "Epoch 2/10\n",
            "750/750 [==============================] - 2s 3ms/step - loss: 0.5027 - accuracy: 0.9040 - val_loss: 0.4303 - val_accuracy: 0.9101\n",
            "Epoch 3/10\n",
            "750/750 [==============================] - 2s 3ms/step - loss: 0.3061 - accuracy: 0.9275 - val_loss: 0.3834 - val_accuracy: 0.9281\n",
            "Epoch 4/10\n",
            "750/750 [==============================] - 2s 3ms/step - loss: 0.2319 - accuracy: 0.9433 - val_loss: 0.3361 - val_accuracy: 0.9372\n",
            "Epoch 5/10\n",
            "750/750 [==============================] - 2s 3ms/step - loss: 0.2138 - accuracy: 0.9465 - val_loss: 0.3186 - val_accuracy: 0.9348\n",
            "Epoch 6/10\n",
            "750/750 [==============================] - 2s 3ms/step - loss: 0.1787 - accuracy: 0.9526 - val_loss: 0.2895 - val_accuracy: 0.9408\n",
            "Epoch 7/10\n",
            "750/750 [==============================] - 2s 3ms/step - loss: 0.1711 - accuracy: 0.9551 - val_loss: 0.2852 - val_accuracy: 0.9433\n",
            "Epoch 8/10\n",
            "750/750 [==============================] - 2s 3ms/step - loss: 0.1596 - accuracy: 0.9580 - val_loss: 0.2632 - val_accuracy: 0.9464\n",
            "Epoch 9/10\n",
            "750/750 [==============================] - 2s 3ms/step - loss: 0.1608 - accuracy: 0.9579 - val_loss: 0.2942 - val_accuracy: 0.9482\n",
            "Epoch 10/10\n",
            "750/750 [==============================] - 2s 2ms/step - loss: 0.1523 - accuracy: 0.9601 - val_loss: 0.2543 - val_accuracy: 0.9478\n"
          ],
          "name": "stdout"
        }
      ]
    },
    {
      "cell_type": "code",
      "metadata": {
        "id": "spLAciY4MUsI"
      },
      "source": [
        "\n",
        "\n",
        "\n",
        "\n",
        "\n",
        "\n",
        "\n",
        "\n",
        "\n",
        "\n",
        "\n",
        "\n",
        "\n",
        "\n",
        "\n",
        "\n",
        "\n",
        "\n"
      ],
      "execution_count": null,
      "outputs": []
    },
    {
      "cell_type": "markdown",
      "metadata": {
        "id": "dBkmhJOnBrxv"
      },
      "source": [
        "### 3) Evaluación de la performance del modelo"
      ]
    },
    {
      "cell_type": "code",
      "metadata": {
        "id": "60RjjA7x_0x3",
        "colab": {
          "base_uri": "https://localhost:8080/",
          "height": 34
        },
        "outputId": "c824f312-1b6b-4802-9c61-32bd223951ed"
      },
      "source": [
        "results = model.evaluate(x_test, y_test, batch_size=64) # PRREGUNTA: ¿Por qué tiene batch size?"
      ],
      "execution_count": null,
      "outputs": [
        {
          "output_type": "stream",
          "text": [
            "157/157 [==============================] - 0s 1ms/step - loss: 0.3660 - accuracy: 0.9555\n"
          ],
          "name": "stdout"
        }
      ]
    },
    {
      "cell_type": "code",
      "metadata": {
        "id": "2HKbNZND21-b",
        "colab": {
          "base_uri": "https://localhost:8080/",
          "height": 573
        },
        "outputId": "48e157d2-8c0f-4a27-82a0-ecd3bfe9c09e"
      },
      "source": [
        "# Lo mas standard para visualizar resultados:\n",
        "plt.plot(history.history['accuracy'])\n",
        "plt.plot(history.history['val_accuracy'])\n",
        "plt.title('Model accuracy')\n",
        "plt.ylabel('Accuracy')\n",
        "plt.xlabel('Epoch')\n",
        "plt.legend(['Accuracy', 'Val_Accuracy'], loc='upper left')\n",
        "plt.show()\n",
        "\n",
        "plt.plot(history.history['loss'])\n",
        "plt.plot(history.history['val_loss'])\n",
        "plt.title('Model loss')\n",
        "plt.ylabel('Loss')\n",
        "plt.xlabel('Epoch')\n",
        "plt.legend(['Loss', 'Val_Loss'], loc='upper left')\n",
        "plt.show()\n"
      ],
      "execution_count": null,
      "outputs": [
        {
          "output_type": "display_data",
          "data": {
            "image/png": "[encoded data removed]",
            "text/plain": [
              "<Figure size 432x288 with 1 Axes>"
            ]
          },
          "metadata": {
            "tags": [],
            "needs_background": "light"
          }
        },
        {
          "output_type": "display_data",
          "data": {
            "image/png": "[encoded data removed]",
            "text/plain": [
              "<Figure size 432x288 with 1 Axes>"
            ]
          },
          "metadata": {
            "tags": [],
            "needs_background": "light"
          }
        }
      ]
    },
    {
      "cell_type": "code",
      "metadata": {
        "id": "9sx0DRi5H3hX"
      },
      "source": [
        "\n",
        "\n",
        "\n",
        "\n",
        "\n",
        "\n",
        "\n",
        "\n",
        "\n"
      ],
      "execution_count": null,
      "outputs": []
    },
    {
      "cell_type": "markdown",
      "metadata": {
        "id": "5IfWGnSBCCXP"
      },
      "source": [
        "### 4) Predicción de casos nuevos"
      ]
    },
    {
      "cell_type": "markdown",
      "metadata": {
        "id": "aTfdUJGpMfyg"
      },
      "source": [
        "Obtenemos 1 registros del test:"
      ]
    },
    {
      "cell_type": "code",
      "metadata": {
        "id": "CsClYCdH6Dbv"
      },
      "source": [
        "x_test[:1]"
      ],
      "execution_count": null,
      "outputs": []
    },
    {
      "cell_type": "code",
      "metadata": {
        "id": "NIjNF0-gBrD1",
        "colab": {
          "base_uri": "https://localhost:8080/",
          "height": 69
        },
        "outputId": "d825e0fe-9c5c-47fa-b645-14732e4a51db"
      },
      "source": [
        "pred = model.predict(x_test[:1])\n",
        "\n",
        "pred"
      ],
      "execution_count": null,
      "outputs": [
        {
          "output_type": "execute_result",
          "data": {
            "text/plain": [
              "array([[2.0405677e-27, 6.6678610e-26, 1.3452566e-12, 9.8762962e-09,\n",
              "        8.8866564e-31, 4.8304474e-24, 0.0000000e+00, 1.0000000e+00,\n",
              "        7.6502523e-26, 1.7319453e-20]], dtype=float32)"
            ]
          },
          "metadata": {
            "tags": []
          },
          "execution_count": 46
        }
      ]
    },
    {
      "cell_type": "markdown",
      "metadata": {
        "id": "I_Fp9NIwMsri"
      },
      "source": [
        "¿Cómo es el shape?"
      ]
    },
    {
      "cell_type": "code",
      "metadata": {
        "id": "lnyd_23FGnDY",
        "colab": {
          "base_uri": "https://localhost:8080/",
          "height": 34
        },
        "outputId": "d4bbec42-2036-496f-999c-f118da8384ba"
      },
      "source": [
        "pred.shape"
      ],
      "execution_count": null,
      "outputs": [
        {
          "output_type": "execute_result",
          "data": {
            "text/plain": [
              "(1, 10)"
            ]
          },
          "metadata": {
            "tags": []
          },
          "execution_count": 47
        }
      ]
    },
    {
      "cell_type": "code",
      "metadata": {
        "id": "TtUbebRpGnZI",
        "colab": {
          "base_uri": "https://localhost:8080/",
          "height": 34
        },
        "outputId": "b379b29d-2c46-4ddf-85a6-e35626a47524"
      },
      "source": [
        "import numpy as np\n",
        "np.argmax(pred, 1)"
      ],
      "execution_count": null,
      "outputs": [
        {
          "output_type": "execute_result",
          "data": {
            "text/plain": [
              "array([7])"
            ]
          },
          "metadata": {
            "tags": []
          },
          "execution_count": 56
        }
      ]
    },
    {
      "cell_type": "code",
      "metadata": {
        "id": "wD-aaDHvNAGR",
        "colab": {
          "base_uri": "https://localhost:8080/",
          "height": 34
        },
        "outputId": "2ea9f471-8b35-417a-b405-29efa3513a52"
      },
      "source": [
        "y_test[:1]"
      ],
      "execution_count": null,
      "outputs": [
        {
          "output_type": "execute_result",
          "data": {
            "text/plain": [
              "array([7], dtype=uint8)"
            ]
          },
          "metadata": {
            "tags": []
          },
          "execution_count": 57
        }
      ]
    },
    {
      "cell_type": "code",
      "metadata": {
        "id": "HpNDHnB_NEVS"
      },
      "source": [
        "\n",
        "\n",
        "\n",
        "\n",
        "\n",
        "\n",
        "\n",
        "\n",
        "\n",
        "\n",
        "\n"
      ],
      "execution_count": null,
      "outputs": []
    },
    {
      "cell_type": "code",
      "metadata": {
        "id": "x8Lg1rf1PhZM"
      },
      "source": [
        ""
      ],
      "execution_count": null,
      "outputs": []
    },
    {
      "cell_type": "markdown",
      "metadata": {
        "id": "xznoZf6gPhtT"
      },
      "source": [
        "### Ejercicios!"
      ]
    },
    {
      "cell_type": "markdown",
      "metadata": {
        "id": "ZHJP3c0fBPtx"
      },
      "source": [
        "Al igual que con MNIST, acá tienen que predecir 10 clases, que son prendas de indumentaria."
      ]
    },
    {
      "cell_type": "code",
      "metadata": {
        "id": "Clguq-b_PjJg"
      },
      "source": [
        "(x_train, y_train), (x_test, y_test)=keras.datasets.fashion_mnist.load_data()"
      ],
      "execution_count": null,
      "outputs": []
    },
    {
      "cell_type": "code",
      "metadata": {
        "id": "fcNn6-qMA0tc",
        "colab": {
          "base_uri": "https://localhost:8080/",
          "height": 282
        },
        "outputId": "96836912-b2c6-40c4-c920-b9805cbfd1dc"
      },
      "source": [
        "plt.imshow(x_train[100], cmap='gray', interpolation='none')"
      ],
      "execution_count": null,
      "outputs": [
        {
          "output_type": "execute_result",
          "data": {
            "text/plain": [
              "<matplotlib.image.AxesImage at 0x7fec609131d0>"
            ]
          },
          "metadata": {
            "tags": []
          },
          "execution_count": 69
        },
        {
          "output_type": "display_data",
          "data": {
            "image/png": "[encoded data removed]",
            "text/plain": [
              "<Figure size 432x288 with 1 Axes>"
            ]
          },
          "metadata": {
            "tags": [],
            "needs_background": "light"
          }
        }
      ]
    },
    {
      "cell_type": "code",
      "metadata": {
        "id": "ifez1xZJBFxf"
      },
      "source": [
        ""
      ],
      "execution_count": null,
      "outputs": []
    }
  ]
}